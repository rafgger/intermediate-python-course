{
  "cells": [
    {
      "cell_type": "markdown",
      "metadata": {
        "id": "view-in-github",
        "colab_type": "text"
      },
      "source": [
        "<a href=\"https://colab.research.google.com/github/rafgger/intermediate-python-course/blob/master/00_Datatyper.ipynb\" target=\"_parent\"><img src=\"https://colab.research.google.com/assets/colab-badge.svg\" alt=\"Open In Colab\"/></a>"
      ]
    },
    {
      "cell_type": "markdown",
      "metadata": {
        "id": "AfsGtpW2XOMv"
      },
      "source": [
        "# Grunnleggende datatyper i Python\n",
        "Vi har mange ulike datatyper. De mest grunnleggende og vanligste er tall, tekst, lister, tuples og dictionaries.\n",
        "\n",
        "## Tall\n",
        "Tall finnes i flere formater, men de viktigste er heltall (int) og desimaltall (float). Vi har også komplekse og imaginære tall. - numbers/Zahlen\n",
        "\n",
        "## Tekst\n",
        "Tekst eller strings skrives mellom disse '' eller mellom disse \"\". - quotation marks\n",
        "\n",
        "## Lister\n",
        "Lister skrives med [] rundt, og elementene skilles med komma. Elementene trenger ikke ha like typer, og en liste kan inneholde en liste. Lister kan modifiseres på mange måter.\n",
        "\n",
        "## Tuples\n",
        "Tuples skrives med () rundt, og elementene skilles med komma. Elementene trenger ikke ha like typer, og en tuple kan inneholde en tuple. Tuples kan normalt ikke modifiseres, men det er unntak.\n",
        "\n",
        "## Dictionaries\n",
        "Dictionaries skrives med {} rundt, linken mellom nøkkel og verdi er kolon : og elementene skilles med komma. Elementene trenger ikke ha like typer, og en dictionary kan inneholde en dictionary. Dictionaries kan modifiseres.\n",
        "\n",
        "## Typer\n",
        "Vi kan sjekke typen til et objekt ved å skrive type(objekt). For å printe det, skriv print(type(objekt)).\n",
        "\n",
        "## Kommentarer\n",
        "Kommentarer skrives med \\# foran teksten."
      ]
    },
    {
      "cell_type": "code",
      "execution_count": null,
      "metadata": {
        "id": "Cqeit8uMXOM0",
        "outputId": "c2172af3-5ed2-458e-ccac-d379a5fd520e"
      },
      "outputs": [
        {
          "name": "stdout",
          "output_type": "stream",
          "text": [
            "6\n",
            "<class 'int'>\n",
            "3.14\n",
            "<class 'float'>\n",
            "dette er en tekst\n",
            "<class 'str'>\n",
            "[3, 6.7, 'hei', 'på', 'deg', 'dette er en tekst', 6, [-3, 'tekst', 12], 9]\n",
            "<class 'list'>\n",
            "(5, 6, 'her er det mer tekst')\n",
            "<class 'tuple'>\n",
            "{'Per': 22334455, 'Kari': 99887766}\n",
            "<class 'dict'>\n",
            "3\n",
            "6\n"
          ]
        }
      ],
      "source": [
        "heltallet = 6\n",
        "desimaltallet = 3.14              # Dette er en kommentar på linje 2\n",
        "teksten = \"dette er en tekst\"\n",
        "# https://realpython.com/python-lists-tuples/\n",
        "listen = [3, 6.7, 'hei', 'på', \"deg\", teksten, heltallet, [-3, 'tekst', 12], 9]  # Legg merke til at det ikke gjør noen forskjell om det står '' eller \"\". Mer om dette senere.\n",
        "tuplen = (5, heltallet, 'her er det mer tekst') # tuples can't be changed\n",
        "ordboken = {'Per': 22334455, 'Kari': 99887766} # Lists are ordered sets of objects, \n",
        "# whereas dictionaries are unordered sets. But the main difference is that items in dictionaries \n",
        "# are accessed via keys and not via their position.\n",
        "\n",
        "print(heltallet)\n",
        "print(type(heltallet))\n",
        "print(desimaltallet)\n",
        "print(type(desimaltallet))\n",
        "print(teksten)\n",
        "print(type(teksten))\n",
        "print(listen)\n",
        "print(type(listen))\n",
        "print(tuplen)\n",
        "print(type(tuplen))\n",
        "print(ordboken)\n",
        "print(type(ordboken))\n",
        "print(listen[0])\n",
        "print(tuplen[1])"
      ]
    },
    {
      "cell_type": "code",
      "source": [
        "from google.colab import drive\n",
        "drive.mount('/content/drive')"
      ],
      "metadata": {
        "id": "iSqxhU8Xau6S"
      },
      "execution_count": null,
      "outputs": []
    },
    {
      "cell_type": "code",
      "execution_count": null,
      "metadata": {
        "id": "BZuELaDHXOM2"
      },
      "outputs": [],
      "source": [
        ""
      ]
    },
    {
      "cell_type": "markdown",
      "metadata": {
        "id": "T2mEM7d2XOM3"
      },
      "source": [
        "###### Øystein Grøndahl, september 2020"
      ]
    }
  ],
  "metadata": {
    "kernelspec": {
      "display_name": "Python 3",
      "language": "python",
      "name": "python3"
    },
    "language_info": {
      "codemirror_mode": {
        "name": "ipython",
        "version": 3
      },
      "file_extension": ".py",
      "mimetype": "text/x-python",
      "name": "python",
      "nbconvert_exporter": "python",
      "pygments_lexer": "ipython3",
      "version": "3.8.3"
    },
    "colab": {
      "name": "00 Datatyper.ipynb",
      "provenance": [],
      "include_colab_link": true
    }
  },
  "nbformat": 4,
  "nbformat_minor": 0
}